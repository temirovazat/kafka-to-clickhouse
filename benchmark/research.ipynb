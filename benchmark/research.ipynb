{
 "cells": [
  {
   "cell_type": "markdown",
   "id": "7be8c851",
   "metadata": {},
   "source": [
    "<h1 align=\"center\"> Research: Clickhouse vs Vertica </h1>"
   ]
  },
  {
   "cell_type": "markdown",
   "id": "15ef2657",
   "metadata": {},
   "source": [
    "## 1. Preparing the storage cluster for operation"
   ]
  },
  {
   "cell_type": "markdown",
   "id": "ebca3f11",
   "metadata": {},
   "source": [
    "### `Clickhouse`"
   ]
  },
  {
   "cell_type": "code",
   "execution_count": 1,
   "id": "7c0cae85",
   "metadata": {},
   "outputs": [],
   "source": [
    "from clickhouse_driver import connect\n",
    "\n",
    "clickhouse = connect(dsn='clickhouse://clickhouse:9000/default?user=default').cursor()\n",
    "\n",
    "clickhouse.execute(\"\"\"\n",
    "    CREATE TABLE IF NOT EXISTS video_progress (\n",
    "        user_id UUID,\n",
    "        film_id UUID,\n",
    "        frame UInt32,\n",
    "        event_time DateTime\n",
    "    ) Engine=MergeTree() ORDER BY user_id;\n",
    "\"\"\")"
   ]
  },
  {
   "cell_type": "markdown",
   "id": "98098a53",
   "metadata": {},
   "source": [
    "### `Vertica`"
   ]
  },
  {
   "cell_type": "code",
   "execution_count": 2,
   "id": "5be7079b",
   "metadata": {},
   "outputs": [
    {
     "data": {
      "text/plain": [
       "<vertica_python.vertica.cursor.Cursor at 0xffff6ea168f0>"
      ]
     },
     "execution_count": 2,
     "metadata": {},
     "output_type": "execute_result"
    }
   ],
   "source": [
    "from vertica_python import connect\n",
    "\n",
    "vertica = connect(dsn='vertica://vertica:5433/docker?user=dbadmin&autocommit=true').cursor()\n",
    "\n",
    "vertica.execute(\"\"\"\n",
    "    CREATE TABLE IF NOT EXISTS video_progress (\n",
    "        user_id UUID,\n",
    "        film_id UUID,\n",
    "        frame INTEGER,\n",
    "        event_time TIMESTAMP\n",
    "    ) ORDER BY user_id;\n",
    "\"\"\")"
   ]
  },
  {
   "cell_type": "markdown",
   "id": "bdc40b0c",
   "metadata": {},
   "source": [
    "## 2. Script for data generation"
   ]
  },
  {
   "cell_type": "code",
   "execution_count": 3,
   "id": "d3bb5189",
   "metadata": {},
   "outputs": [],
   "source": [
    "from faker import Faker\n",
    "\n",
    "fake = Faker()\n",
    "\n",
    "def gendata():\n",
    "    return {\n",
    "        'user_id': fake.uuid4(),\n",
    "        'film_id': fake.uuid4(),\n",
    "        'frame': fake.random_int(max=4294967295),\n",
    "        'event_time': fake.past_datetime(start_date='-1y'),\n",
    "    }"
   ]
  },
  {
   "cell_type": "markdown",
   "id": "130cadab",
   "metadata": {},
   "source": [
    "## 3. Data insertion testing (10,000,000 rows)"
   ]
  },
  {
   "cell_type": "code",
   "execution_count": 4,
   "id": "70a8d9d6",
   "metadata": {},
   "outputs": [],
   "source": [
    "batch_size = 10000\n",
    "multiplier = 1000"
   ]
  },
  {
   "cell_type": "markdown",
   "id": "a77acf3e",
   "metadata": {},
   "source": [
    "### `Clickhouse`"
   ]
  },
  {
   "cell_type": "code",
   "execution_count": 5,
   "id": "24db8214",
   "metadata": {},
   "outputs": [
    {
     "name": "stdout",
     "output_type": "stream",
     "text": [
      "CPU times: user 4min 6s, sys: 298 ms, total: 4min 7s\n",
      "Wall time: 4min 9s\n"
     ]
    }
   ],
   "source": [
    "%%time\n",
    "for _ in range(multiplier):\n",
    "    clickhouse.execute(\n",
    "        'INSERT INTO video_progress (user_id, film_id, frame, event_time) VALUES',\n",
    "        [gendata() for _ in range(batch_size)],\n",
    "    )"
   ]
  },
  {
   "cell_type": "code",
   "execution_count": 6,
   "id": "f0c2413e",
   "metadata": {},
   "outputs": [
    {
     "data": {
      "text/plain": [
       "(10000000,)"
      ]
     },
     "execution_count": 6,
     "metadata": {},
     "output_type": "execute_result"
    }
   ],
   "source": [
    "clickhouse.execute('SELECT COUNT(*) FROM video_progress')\n",
    "clickhouse.fetchone()"
   ]
  },
  {
   "cell_type": "markdown",
   "id": "ec8865ef",
   "metadata": {},
   "source": [
    "### `Vertica`"
   ]
  },
  {
   "cell_type": "code",
   "execution_count": 7,
   "id": "a86c0706",
   "metadata": {},
   "outputs": [
    {
     "name": "stdout",
     "output_type": "stream",
     "text": [
      "CPU times: user 5min 30s, sys: 1.23 s, total: 5min 32s\n",
      "Wall time: 6min 42s\n"
     ]
    }
   ],
   "source": [
    "%%time\n",
    "for _ in range(multiplier):\n",
    "    vertica.executemany(\n",
    "        'INSERT INTO video_progress (user_id, film_id, frame, event_time) VALUES (:user_id, :film_id, :frame, :event_time)',\n",
    "        [gendata() for _ in range(batch_size)],\n",
    "    )"
   ]
  },
  {
   "cell_type": "code",
   "execution_count": 8,
   "id": "c9827fc0",
   "metadata": {},
   "outputs": [
    {
     "data": {
      "text/plain": [
       "[10000000]"
      ]
     },
     "execution_count": 8,
     "metadata": {},
     "output_type": "execute_result"
    }
   ],
   "source": [
    "vertica.execute('SELECT COUNT(*) FROM video_progress')\n",
    "vertica.fetchone()"
   ]
  },
  {
   "cell_type": "markdown",
   "id": "ea4ba5dd",
   "metadata": {},
   "source": [
    "## 4. Data reading test (for 1 day)"
   ]
  },
  {
   "cell_type": "code",
   "execution_count": 9,
   "id": "b2349864",
   "metadata": {},
   "outputs": [],
   "source": [
    "from datetime import datetime, timedelta\n",
    "\n",
    "yesterday = datetime.now() - timedelta(days=1)"
   ]
  },
  {
   "cell_type": "markdown",
   "id": "6c6b1cc4",
   "metadata": {},
   "source": [
    "### `Clickhouse`"
   ]
  },
  {
   "cell_type": "code",
   "execution_count": 10,
   "id": "c9af93ab",
   "metadata": {},
   "outputs": [
    {
     "name": "stdout",
     "output_type": "stream",
     "text": [
      "CPU times: user 148 ms, sys: 5 ms, total: 153 ms\n",
      "Wall time: 768 ms\n"
     ]
    }
   ],
   "source": [
    "%%time\n",
    "clickhouse.execute(\n",
    "    'SELECT * FROM video_progress WHERE event_time  > %(datetime)s ORDER BY event_time',\n",
    "    {'datetime': yesterday},\n",
    ")"
   ]
  },
  {
   "cell_type": "code",
   "execution_count": 11,
   "id": "d52c4e08",
   "metadata": {},
   "outputs": [
    {
     "data": {
      "text/plain": [
       "(UUID('e88541df-6b00-476a-9791-35eaaeb1d534'),\n",
       " UUID('fa8ddbf8-853b-40b4-9e94-3f27a6326a4a'),\n",
       " 1635196973,\n",
       " datetime.datetime(2023, 1, 25, 15, 4, 56))"
      ]
     },
     "execution_count": 11,
     "metadata": {},
     "output_type": "execute_result"
    }
   ],
   "source": [
    "clickhouse.fetchone()"
   ]
  },
  {
   "cell_type": "markdown",
   "id": "ea9750e5",
   "metadata": {},
   "source": [
    "### `Vertica`"
   ]
  },
  {
   "cell_type": "code",
   "execution_count": 12,
   "id": "a8bf5fe6",
   "metadata": {},
   "outputs": [
    {
     "name": "stdout",
     "output_type": "stream",
     "text": [
      "CPU times: user 2.87 ms, sys: 4 ms, total: 6.87 ms\n",
      "Wall time: 1.38 s\n"
     ]
    },
    {
     "data": {
      "text/plain": [
       "<vertica_python.vertica.cursor.Cursor at 0xffff6ea168f0>"
      ]
     },
     "execution_count": 12,
     "metadata": {},
     "output_type": "execute_result"
    }
   ],
   "source": [
    "%%time\n",
    "vertica.execute(\n",
    "    'SELECT * FROM video_progress WHERE event_time  > :datetime ORDER BY event_time',\n",
    "    {'datetime': yesterday},\n",
    ")"
   ]
  },
  {
   "cell_type": "code",
   "execution_count": 13,
   "id": "6cf6d93e",
   "metadata": {},
   "outputs": [
    {
     "data": {
      "text/plain": [
       "[UUID('c0e925cd-1864-405a-b9d0-d33e8c68e1ba'),\n",
       " UUID('cdac1275-7220-4935-ba06-77827a0de199'),\n",
       " 3831947341,\n",
       " datetime.datetime(2023, 1, 25, 15, 4, 57)]"
      ]
     },
     "execution_count": 13,
     "metadata": {},
     "output_type": "execute_result"
    }
   ],
   "source": [
    "vertica.fetchone()"
   ]
  },
  {
   "cell_type": "markdown",
   "id": "64bdbafc",
   "metadata": {},
   "source": [
    "## 4. Testing of data aggregation (frames)"
   ]
  },
  {
   "cell_type": "markdown",
   "id": "263f95f6",
   "metadata": {},
   "source": [
    "### `Clickhouse`"
   ]
  },
  {
   "cell_type": "code",
   "execution_count": 14,
   "id": "20444de4",
   "metadata": {},
   "outputs": [
    {
     "name": "stdout",
     "output_type": "stream",
     "text": [
      "CPU times: user 8.76 ms, sys: 3 ms, total: 11.8 ms\n",
      "Wall time: 71.9 ms\n"
     ]
    }
   ],
   "source": [
    "%%time\n",
    "clickhouse.execute('SELECT MAX(frame), MIN(frame), SUM(frame), AVG(frame) FROM video_progress')"
   ]
  },
  {
   "cell_type": "code",
   "execution_count": 15,
   "id": "766c6298",
   "metadata": {},
   "outputs": [
    {
     "data": {
      "text/plain": [
       "(4294967002, 632, 21479922194684053, 2147992219.4684052)"
      ]
     },
     "execution_count": 15,
     "metadata": {},
     "output_type": "execute_result"
    }
   ],
   "source": [
    "clickhouse.fetchone()"
   ]
  },
  {
   "cell_type": "markdown",
   "id": "01dfa198",
   "metadata": {},
   "source": [
    "### `Vertica`"
   ]
  },
  {
   "cell_type": "code",
   "execution_count": 16,
   "id": "08a0a3b8",
   "metadata": {},
   "outputs": [
    {
     "name": "stdout",
     "output_type": "stream",
     "text": [
      "CPU times: user 154 ms, sys: 7.03 ms, total: 161 ms\n",
      "Wall time: 440 ms\n"
     ]
    },
    {
     "data": {
      "text/plain": [
       "<vertica_python.vertica.cursor.Cursor at 0xffff6ea168f0>"
      ]
     },
     "execution_count": 16,
     "metadata": {},
     "output_type": "execute_result"
    }
   ],
   "source": [
    "%%time\n",
    "vertica.execute('SELECT MAX(frame), MIN(frame), SUM(frame), AVG(frame) FROM video_progress')"
   ]
  },
  {
   "cell_type": "code",
   "execution_count": 17,
   "id": "fca23620",
   "metadata": {},
   "outputs": [
    {
     "data": {
      "text/plain": [
       "[4294966375, 123, 21479771290323761, 2147977129.03238]"
      ]
     },
     "execution_count": 17,
     "metadata": {},
     "output_type": "execute_result"
    }
   ],
   "source": [
    "vertica.fetchone()"
   ]
  },
  {
   "cell_type": "markdown",
   "id": "e449248d",
   "metadata": {},
   "source": [
    "### **Conclusion: ClickHouse is faster at handling analytic queries than Vertica.**"
   ]
  }
 ],
 "metadata": {
  "kernelspec": {
   "display_name": "fastapi-kafka",
   "language": "python",
   "name": "python3"
  },
  "language_info": {
   "codemirror_mode": {
    "name": "ipython",
    "version": 3
   },
   "file_extension": ".py",
   "mimetype": "text/x-python",
   "name": "python",
   "nbconvert_exporter": "python",
   "pygments_lexer": "ipython3",
   "version": "3.10.4"
  },
  "vscode": {
   "interpreter": {
    "hash": "3c1b1b4c6f3611560a97eab192873b66e24467f02743afdd8ce325bf8baee0b1"
   }
  }
 },
 "nbformat": 4,
 "nbformat_minor": 5
}
